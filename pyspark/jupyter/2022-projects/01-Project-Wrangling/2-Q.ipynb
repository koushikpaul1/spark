{
 "cells": [
  {
   "cell_type": "markdown",
   "id": "c6ad0ba3",
   "metadata": {},
   "source": [
    "#### Guiding Questions:\n",
    "Who are the winners of the D1 division in the Germany Football Association (Bundesliga) in the last decade?\n",
    "\n",
    "Which teams have been relegated in the past 10 years?\n",
    "\n",
    "Does Octoberfest affect the performance of Bundesliga?\n",
    "\n",
    "Which season of Bundesliga was the most competitive in the last decade?\n",
    "\n",
    "What's the best month to watch Bundesliga?"
   ]
  },
  {
   "cell_type": "code",
   "execution_count": null,
   "id": "c0be71e2",
   "metadata": {},
   "outputs": [],
   "source": [
    "import findspark\n",
    "findspark.init()\n",
    "import pyspark\n",
    "\n",
    "\n",
    "from pyspark.sql import SparkSession\n",
    "spark = SparkSession.builder.getOrCreate()"
   ]
  },
  {
   "cell_type": "code",
   "execution_count": null,
   "id": "153c9df4",
   "metadata": {},
   "outputs": [],
   "source": [
    "from pyspark.sql import Row\n",
    "from pyspark.sql.functions import instr,col,column, expr, coalesce, broadcast\n",
    "from pyspark.sql.functions import count, first, last,min, max, sum, avg, sumDistinct,sum_distinct, pow, desc, countDistinct, approx_count_distinct, dense_rank, rank\n",
    "from pyspark.sql.functions import corr, round, bround, monotonically_increasing_id, mean, format_number, var_pop, stddev_pop,var_samp, stddev_samp, skewness, kurtosis, covar_pop, covar_samp\n",
    "from pyspark.sql.functions import initcap , lower, upper, lit, ltrim, rtrim, rpad, lpad, trim, regexp_replace, regexp_extract, translate, collect_set, collect_list\n",
    "from pyspark.sql.functions import when,current_date, current_timestamp, date_add, date_sub, datediff, to_date, months_between, dayofmonth,hour,dayofyear,month,year,weekofyear,date_format\n",
    "from pyspark.sql.window import Window"
   ]
  },
  {
   "cell_type": "code",
   "execution_count": null,
   "id": "3ca38b29",
   "metadata": {},
   "outputs": [],
   "source": [
    "df_matches  = spark.read.csv('data/Matches.csv',inferSchema=True,header=True)\n",
    "df_teams  = spark.read.csv('data/Teams.csv',inferSchema=True,header=True)\n",
    "df_team_matches  = spark.read.csv('data/Teams_in_Matches.csv',inferSchema=True,header=True)\n",
    "df_team_id  = spark.read.csv('data/Unique_Teams.csv',inferSchema=True,header=True)"
   ]
  },
  {
   "cell_type": "code",
   "execution_count": null,
   "id": "91c71e51",
   "metadata": {},
   "outputs": [],
   "source": [
    "df_matches.show(5)\n",
    "df_teams.select('*').show(5)\n",
    "df_team_matches.show(5)\n",
    "df_team_id.show(5)"
   ]
  },
  {
   "cell_type": "code",
   "execution_count": null,
   "id": "5acf9c2e",
   "metadata": {},
   "outputs": [],
   "source": [
    "df1=df_matches.select(col('Season'),col('HomeTeam').alias('Team'),col('Div'))\\\n",
    "    .union(df_matches.select(col('Season'),col('AwayTeam').alias('Team'),col('Div')))"
   ]
  },
  {
   "cell_type": "code",
   "execution_count": null,
   "id": "eb503679",
   "metadata": {},
   "outputs": [],
   "source": [
    "#df2=df1.groupby('HomeTeam','Season','Div').agg(count('*')).orderBy(col('HomeTeam').desc(),col('Season').desc(),col('Div').desc())\n",
    "df2=df1.groupby('Team','Season','Div').agg(count('*')).orderBy('Team','Season', ascending=False)"
   ]
  },
  {
   "cell_type": "code",
   "execution_count": null,
   "id": "5d3683ae",
   "metadata": {},
   "outputs": [],
   "source": [
    "df3=df2.alias('a').join(df2.alias('b'),(col('a.Team')==col('b.Team'))&(col('a.Season')>col('b.Season'))&(col('a.Div')>col('b.Div')))\n",
    "df4=df3.select('a.Team').distinct()"
   ]
  },
  {
   "cell_type": "code",
   "execution_count": null,
   "id": "9291ec39",
   "metadata": {},
   "outputs": [],
   "source": [
    "df4.show()"
   ]
  }
 ],
 "metadata": {
  "kernelspec": {
   "display_name": "Python 3 (ipykernel)",
   "language": "python",
   "name": "python3"
  },
  "language_info": {
   "codemirror_mode": {
    "name": "ipython",
    "version": 3
   },
   "file_extension": ".py",
   "mimetype": "text/x-python",
   "name": "python",
   "nbconvert_exporter": "python",
   "pygments_lexer": "ipython3",
   "version": "3.9.12"
  }
 },
 "nbformat": 4,
 "nbformat_minor": 5
}
