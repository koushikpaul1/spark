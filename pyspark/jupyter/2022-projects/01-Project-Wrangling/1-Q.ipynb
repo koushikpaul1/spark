{
 "cells": [
  {
   "cell_type": "markdown",
   "id": "d17aa7d5",
   "metadata": {},
   "source": [
    "#### Guiding Questions:\n",
    "Who are the winners of the D1 division in the Germany Football Association (Bundesliga) in the last decade?\n",
    "\n",
    "Which teams have been relegated in the past 10 years?\n",
    "\n",
    "Does Octoberfest affect the performance of Bundesliga?\n",
    "\n",
    "Which season of Bundesliga was the most competitive in the last decade?\n",
    "\n",
    "What's the best month to watch Bundesliga?"
   ]
  },
  {
   "cell_type": "code",
   "execution_count": 1,
   "id": "ffc7429e",
   "metadata": {},
   "outputs": [],
   "source": [
    "import findspark\n",
    "findspark.init()\n",
    "import pyspark\n",
    "\n",
    "\n",
    "from pyspark.sql import SparkSession\n",
    "spark = SparkSession.builder.getOrCreate()"
   ]
  },
  {
   "cell_type": "code",
   "execution_count": 20,
   "id": "49d585be",
   "metadata": {},
   "outputs": [],
   "source": [
    "from pyspark.sql import Row\n",
    "from pyspark.sql.functions import instr,col,column, expr, coalesce, broadcast\n",
    "from pyspark.sql.functions import count, first, last,min, max, sum, avg, sumDistinct,sum_distinct, pow, desc, countDistinct, approx_count_distinct, dense_rank, rank\n",
    "from pyspark.sql.functions import corr, round, bround, monotonically_increasing_id, mean, format_number, var_pop, stddev_pop,var_samp, stddev_samp, skewness, kurtosis, covar_pop, covar_samp\n",
    "from pyspark.sql.functions import initcap , lower, upper, lit, ltrim, rtrim, rpad, lpad, trim, regexp_replace, regexp_extract, translate, collect_set, collect_list\n",
    "from pyspark.sql.functions import when,current_date, current_timestamp, date_add, date_sub, datediff, to_date, months_between, dayofmonth,hour,dayofyear,month,year,weekofyear,date_format\n",
    "from pyspark.sql.window import Window"
   ]
  },
  {
   "cell_type": "code",
   "execution_count": 67,
   "id": "49d720ab",
   "metadata": {},
   "outputs": [],
   "source": [
    "df_matches  = spark.read.csv('data/Matches.csv',inferSchema=True,header=True)\n",
    "df_teams  = spark.read.csv('data/Teams.csv',inferSchema=True,header=True)\n",
    "df_team_matches  = spark.read.csv('data/Teams_in_Matches.csv',inferSchema=True,header=True)\n",
    "df_team_id  = spark.read.csv('data/Unique_Teams.csv',inferSchema=True,header=True)"
   ]
  },
  {
   "cell_type": "code",
   "execution_count": 169,
   "id": "33d422be",
   "metadata": {},
   "outputs": [],
   "source": [
    "df_matches1=df_matches.filter((col('Season')>2000) & (col('Season')<=2010)).filter(col('Div')=='D1')\n",
    "df_matches2=df_matches1.withColumn('HTP',when(col('FTR')=='H',3).when(col('FTR')=='D',1).otherwise(0))\\\n",
    "                                            .withColumn('ATP',when(col('FTR')=='A',3).when(col('FTR')=='D',1).otherwise(0))"
   ]
  },
  {
   "cell_type": "code",
   "execution_count": 170,
   "id": "56c75744",
   "metadata": {},
   "outputs": [],
   "source": [
    "df_matchesH3=df_matches2.groupby('Season', 'HomeTeam' ).agg(sum('FTHG').alias('GoalScored'),sum('FTAG').alias('GoalReceived'),\\\n",
    "                                                          sum('HTP').alias('TotalPoint')).withColumnRenamed('HomeTeam' ,'Team')\n",
    "df_matchesA3=df_matches2.groupby('Season', 'AwayTeam').agg(sum('FTAG').alias('GoalScored'),sum('FTHG').alias('GoalReceived'),\\\n",
    "                                                          sum('ATP').alias('TotalPoint')).withColumnRenamed('AwayTeam' ,'Team')"
   ]
  },
  {
   "cell_type": "code",
   "execution_count": 171,
   "id": "f04ad642",
   "metadata": {},
   "outputs": [],
   "source": [
    "df_matches4=df_matchesH3.union(df_matchesA3)\n",
    "df_matches5=df_matches4.groupby('Season','Team').agg(sum('GoalScored').alias('GoalScored'),\\\n",
    "                                                    sum('GoalReceived').alias('GoalReceived'),\\\n",
    "                                                    sum('TotalPoint').alias('TotalPoint'))\n",
    "#df_matches6=df_matches5.groupby('Season').max('TotalPoint')\n",
    "df_matches6=df_matches5.groupby('Season').agg(max('TotalPoint').alias('MaxTotalPoint'))"
   ]
  },
  {
   "cell_type": "code",
   "execution_count": 172,
   "id": "1b469d14",
   "metadata": {},
   "outputs": [],
   "source": [
    "#df_matches5.join(df_matches6,['Season'] ).show()\n",
    "df_matches7=df_matches5.join(df_matches6,(df_matches5.Season == df_matches6.Season)&(df_matches5.TotalPoint == df_matches6.MaxTotalPoint))\\\n",
    "                        .drop(df_matches6.Season).drop(df_matches6.MaxTotalPoint).orderBy('Season',  ascending=True)"
   ]
  },
  {
   "cell_type": "code",
   "execution_count": 174,
   "id": "d35484d5",
   "metadata": {},
   "outputs": [
    {
     "name": "stdout",
     "output_type": "stream",
     "text": [
      "+-------------+----------+------------+----------+------+\n",
      "|         Team|GoalScored|GoalReceived|TotalPoint|Season|\n",
      "+-------------+----------+------------+----------+------+\n",
      "|     Dortmund|        62|          33|        70|  2001|\n",
      "|Bayern Munich|        70|          25|        75|  2002|\n",
      "|Werder Bremen|        79|          38|        74|  2003|\n",
      "|Bayern Munich|        75|          33|        77|  2004|\n",
      "|Bayern Munich|        67|          32|        75|  2005|\n",
      "|    Stuttgart|        61|          37|        70|  2006|\n",
      "|Bayern Munich|        68|          21|        76|  2007|\n",
      "|    Wolfsburg|        80|          41|        69|  2008|\n",
      "|Bayern Munich|        72|          31|        70|  2009|\n",
      "|     Dortmund|        67|          22|        75|  2010|\n",
      "+-------------+----------+------------+----------+------+\n",
      "\n"
     ]
    }
   ],
   "source": [
    "df_matches7.show()"
   ]
  },
  {
   "cell_type": "code",
   "execution_count": null,
   "id": "10923d20",
   "metadata": {},
   "outputs": [],
   "source": []
  }
 ],
 "metadata": {
  "kernelspec": {
   "display_name": "Python 3 (ipykernel)",
   "language": "python",
   "name": "python3"
  },
  "language_info": {
   "codemirror_mode": {
    "name": "ipython",
    "version": 3
   },
   "file_extension": ".py",
   "mimetype": "text/x-python",
   "name": "python",
   "nbconvert_exporter": "python",
   "pygments_lexer": "ipython3",
   "version": "3.9.12"
  }
 },
 "nbformat": 4,
 "nbformat_minor": 5
}
