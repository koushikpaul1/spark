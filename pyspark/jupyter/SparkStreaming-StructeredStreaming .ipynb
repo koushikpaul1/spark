{
 "cells": [
  {
   "cell_type": "code",
   "execution_count": null,
   "metadata": {},
   "outputs": [],
   "source": [
    "import findspark\n",
    "findspark.init()\n",
    "import pyspark\n",
    "\n",
    "\n",
    "from pyspark.sql import SparkSession\n",
    "spark = SparkSession.builder.config(\"spark.sql.warehouse.dir\", \"file:///C:/tmp/hive\").getOrCreate()\n",
    "spark.conf.set(\"spark.sql.shuffle.partitions\", 5)"
   ]
  },
  {
   "cell_type": "code",
   "execution_count": 23,
   "metadata": {},
   "outputs": [],
   "source": [
    "from time import sleep\n",
    "from pyspark.sql.functions import expr, window, col"
   ]
  },
  {
   "cell_type": "code",
   "execution_count": 16,
   "metadata": {},
   "outputs": [
    {
     "name": "stdout",
     "output_type": "stream",
     "text": [
      "root\n",
      " |-- Arrival_Time: long (nullable = true)\n",
      " |-- Creation_Time: long (nullable = true)\n",
      " |-- Device: string (nullable = true)\n",
      " |-- Index: long (nullable = true)\n",
      " |-- Model: string (nullable = true)\n",
      " |-- User: string (nullable = true)\n",
      " |-- gt: string (nullable = true)\n",
      " |-- x: double (nullable = true)\n",
      " |-- y: double (nullable = true)\n",
      " |-- z: double (nullable = true)\n",
      "\n",
      "+-------------+-------------------+--------+-----+------+----+-----+-------------+-----------+-------------+\n",
      "| Arrival_Time|      Creation_Time|  Device|Index| Model|User|   gt|            x|          y|            z|\n",
      "+-------------+-------------------+--------+-----+------+----+-----+-------------+-----------+-------------+\n",
      "|1424686735175|1424686733176178965|nexus4_1|   35|nexus4|   g|stand| 0.0014038086|  5.0354E-4|-0.0124053955|\n",
      "|1424686735378|1424686733382813486|nexus4_1|   76|nexus4|   g|stand|-0.0039367676|0.026138306|  -0.01133728|\n",
      "+-------------+-------------------+--------+-----+------+----+-----+-------------+-----------+-------------+\n",
      "only showing top 2 rows\n",
      "\n"
     ]
    }
   ],
   "source": [
    "static=spark.read.json(\"../../data/SparkTheDefinitiveGuide/activity-data/\")\n",
    "schema=static.schema\n",
    "static.printSchema()\n",
    "static.show(2)"
   ]
  },
  {
   "cell_type": "code",
   "execution_count": null,
   "metadata": {},
   "outputs": [],
   "source": [
    "streaming = spark.readStream.schema(schema).option(\"maxFilesPerTrigger\", 1).json(\"data/activity-data/\")\n",
    "\n",
    "activityCounts = streaming.groupBy(\"gt\").count()\n",
    "\n",
    "activityQuery = activityCounts.writeStream.queryName(\"activity_counts\").format(\"memory\").outputMode(\"complete\").start()\n",
    "\n",
    "#activityQuery.awaitTermination()"
   ]
  },
  {
   "cell_type": "code",
   "execution_count": 9,
   "metadata": {},
   "outputs": [
    {
     "data": {
      "text/plain": [
       "[<pyspark.sql.streaming.StreamingQuery at 0x1da6ccae6c8>,\n",
       " <pyspark.sql.streaming.StreamingQuery at 0x1da6ccae848>]"
      ]
     },
     "execution_count": 9,
     "metadata": {},
     "output_type": "execute_result"
    }
   ],
   "source": [
    "spark.streams.active"
   ]
  },
  {
   "cell_type": "code",
   "execution_count": null,
   "metadata": {},
   "outputs": [],
   "source": [
    "for x in range(5):\n",
    " spark.sql(\"SELECT * FROM activity_counts\").show()\n",
    " sleep(1)"
   ]
  },
  {
   "cell_type": "markdown",
   "metadata": {},
   "source": [
    "SimpleTransformation ( append)"
   ]
  },
  {
   "cell_type": "code",
   "execution_count": 8,
   "metadata": {},
   "outputs": [],
   "source": [
    "simpleTransform = streaming.withColumn(\"stairs\", expr(\"gt like '%stairs%'\"))\\\n",
    ".where(\"stairs\")\\\n",
    ".where(\"gt is not null\")\\\n",
    ".select(\"gt\", \"model\", \"arrival_time\", \"creation_time\")\\\n",
    ".writeStream\\\n",
    ".queryName(\"simple_transform\")\\\n",
    ".format(\"memory\")\\\n",
    ".outputMode(\"append\")\\\n",
    ".start()"
   ]
  },
  {
   "cell_type": "code",
   "execution_count": 11,
   "metadata": {},
   "outputs": [
    {
     "name": "stdout",
     "output_type": "stream",
     "text": [
      "+--------+------+-------------+-------------------+\n",
      "|      gt| model| arrival_time|      creation_time|\n",
      "+--------+------+-------------+-------------------+\n",
      "|stairsup|nexus4|1424687983719|1424687981726802718|\n",
      "|stairsup|nexus4|1424687984000|1424687982009853255|\n",
      "+--------+------+-------------+-------------------+\n",
      "only showing top 2 rows\n",
      "\n",
      "+--------+------+-------------+-------------------+\n",
      "|      gt| model| arrival_time|      creation_time|\n",
      "+--------+------+-------------+-------------------+\n",
      "|stairsup|nexus4|1424687983719|1424687981726802718|\n",
      "|stairsup|nexus4|1424687984000|1424687982009853255|\n",
      "+--------+------+-------------+-------------------+\n",
      "only showing top 2 rows\n",
      "\n",
      "+--------+------+-------------+-------------------+\n",
      "|      gt| model| arrival_time|      creation_time|\n",
      "+--------+------+-------------+-------------------+\n",
      "|stairsup|nexus4|1424687983719|1424687981726802718|\n",
      "|stairsup|nexus4|1424687984000|1424687982009853255|\n",
      "+--------+------+-------------+-------------------+\n",
      "only showing top 2 rows\n",
      "\n",
      "+--------+------+-------------+-------------------+\n",
      "|      gt| model| arrival_time|      creation_time|\n",
      "+--------+------+-------------+-------------------+\n",
      "|stairsup|nexus4|1424687983719|1424687981726802718|\n",
      "|stairsup|nexus4|1424687984000|1424687982009853255|\n",
      "+--------+------+-------------+-------------------+\n",
      "only showing top 2 rows\n",
      "\n",
      "+--------+------+-------------+-------------------+\n",
      "|      gt| model| arrival_time|      creation_time|\n",
      "+--------+------+-------------+-------------------+\n",
      "|stairsup|nexus4|1424687983719|1424687981726802718|\n",
      "|stairsup|nexus4|1424687984000|1424687982009853255|\n",
      "+--------+------+-------------+-------------------+\n",
      "only showing top 2 rows\n",
      "\n"
     ]
    }
   ],
   "source": [
    "for x in range(5):\n",
    " spark.sql(\"SELECT * FROM simple_transform\").show(2)\n",
    " sleep(1)"
   ]
  },
  {
   "cell_type": "markdown",
   "metadata": {},
   "source": [
    "Aggregrations (complete)"
   ]
  },
  {
   "cell_type": "code",
   "execution_count": 12,
   "metadata": {},
   "outputs": [],
   "source": [
    "deviceModelStats = streaming.cube(\"gt\", \"model\").avg()\\\n",
    ".drop(\"avg(Arrival_time)\")\\\n",
    ".drop(\"avg(Creation_Time)\")\\\n",
    ".drop(\"avg(Index)\")\\\n",
    ".writeStream.queryName(\"device_counts\").format(\"memory\")\\\n",
    ".outputMode(\"complete\")\\\n",
    ".start()"
   ]
  },
  {
   "cell_type": "code",
   "execution_count": 13,
   "metadata": {},
   "outputs": [
    {
     "name": "stdout",
     "output_type": "stream",
     "text": [
      "+-----+-----+--------------------+--------------------+--------------------+\n",
      "|   gt|model|              avg(x)|              avg(y)|              avg(z)|\n",
      "+-----+-----+--------------------+--------------------+--------------------+\n",
      "|  sit| null|-4.84874225480320...|3.237740430277435E-4|-4.65213713798286...|\n",
      "|stand| null|-3.19865608911240...|4.070066943871052E-4|1.027885098598976...|\n",
      "+-----+-----+--------------------+--------------------+--------------------+\n",
      "only showing top 2 rows\n",
      "\n",
      "+-----+-----+--------------------+--------------------+--------------------+\n",
      "|   gt|model|              avg(x)|              avg(y)|              avg(z)|\n",
      "+-----+-----+--------------------+--------------------+--------------------+\n",
      "|  sit| null|-4.84874225480320...|3.237740430277435E-4|-4.65213713798286...|\n",
      "|stand| null|-3.19865608911240...|4.070066943871052E-4|1.027885098598976...|\n",
      "+-----+-----+--------------------+--------------------+--------------------+\n",
      "only showing top 2 rows\n",
      "\n",
      "+-----+-----+--------------------+--------------------+--------------------+\n",
      "|   gt|model|              avg(x)|              avg(y)|              avg(z)|\n",
      "+-----+-----+--------------------+--------------------+--------------------+\n",
      "|  sit| null|-4.84874225480320...|3.237740430277435E-4|-4.65213713798286...|\n",
      "|stand| null|-3.19865608911240...|4.070066943871052E-4|1.027885098598976...|\n",
      "+-----+-----+--------------------+--------------------+--------------------+\n",
      "only showing top 2 rows\n",
      "\n",
      "+-----+-----+--------------------+--------------------+--------------------+\n",
      "|   gt|model|              avg(x)|              avg(y)|              avg(z)|\n",
      "+-----+-----+--------------------+--------------------+--------------------+\n",
      "|  sit| null|-4.84874225480320...|3.237740430277435E-4|-4.65213713798286...|\n",
      "|stand| null|-3.19865608911240...|4.070066943871052E-4|1.027885098598976...|\n",
      "+-----+-----+--------------------+--------------------+--------------------+\n",
      "only showing top 2 rows\n",
      "\n",
      "+-----+-----+--------------------+--------------------+--------------------+\n",
      "|   gt|model|              avg(x)|              avg(y)|              avg(z)|\n",
      "+-----+-----+--------------------+--------------------+--------------------+\n",
      "|  sit| null|-4.84874225480320...|3.237740430277435E-4|-4.65213713798286...|\n",
      "|stand| null|-3.19865608911240...|4.070066943871052E-4|1.027885098598976...|\n",
      "+-----+-----+--------------------+--------------------+--------------------+\n",
      "only showing top 2 rows\n",
      "\n"
     ]
    }
   ],
   "source": [
    "for x in range(5):\n",
    " spark.sql(\"SELECT * FROM device_counts\").show(2)\n",
    " sleep(1)"
   ]
  },
  {
   "cell_type": "markdown",
   "metadata": {},
   "source": [
    "Joins ( static with streaming)"
   ]
  },
  {
   "cell_type": "code",
   "execution_count": 18,
   "metadata": {},
   "outputs": [],
   "source": [
    "historicalAgg = static.groupBy(\"gt\", \"model\").avg()\n",
    "deviceModelStats = streaming.drop(\"Arrival_Time\", \"Creation_Time\", \"Index\")\\\n",
    ".cube(\"gt\", \"model\").avg()\\\n",
    ".join(historicalAgg, [\"gt\", \"model\"])\\\n",
    ".writeStream.queryName(\"device_counts_joined_with_static\").format(\"memory\")\\\n",
    ".outputMode(\"complete\")\\\n",
    ".start()"
   ]
  },
  {
   "cell_type": "code",
   "execution_count": 19,
   "metadata": {},
   "outputs": [
    {
     "name": "stdout",
     "output_type": "stream",
     "text": [
      "+----+------+--------------------+--------------------+--------------------+--------------------+--------------------+-----------------+--------------------+--------------------+--------------------+\n",
      "|  gt| model|              avg(x)|              avg(y)|              avg(z)|   avg(Arrival_Time)|  avg(Creation_Time)|       avg(Index)|              avg(x)|              avg(y)|              avg(z)|\n",
      "+----+------+--------------------+--------------------+--------------------+--------------------+--------------------+-----------------+--------------------+--------------------+--------------------+\n",
      "|bike|nexus4| 0.02096106490343168|-0.00915222693840...|-0.08538726699652668|1.424751134197978...|1.424752122472926...|326483.0788681517|0.020961064903431633|-0.00915222693840...|-0.08538726699652678|\n",
      "|null|nexus4|-0.00601179783148...|-7.22352747272201...|0.003847526633724176|1.424749016665859...|1.424749940430317...| 219268.945300536|-0.00601179783148...|-7.22352747272203...|0.003847526633724...|\n",
      "+----+------+--------------------+--------------------+--------------------+--------------------+--------------------+-----------------+--------------------+--------------------+--------------------+\n",
      "only showing top 2 rows\n",
      "\n",
      "+----+------+--------------------+--------------------+--------------------+--------------------+--------------------+-----------------+--------------------+--------------------+--------------------+\n",
      "|  gt| model|              avg(x)|              avg(y)|              avg(z)|   avg(Arrival_Time)|  avg(Creation_Time)|       avg(Index)|              avg(x)|              avg(y)|              avg(z)|\n",
      "+----+------+--------------------+--------------------+--------------------+--------------------+--------------------+-----------------+--------------------+--------------------+--------------------+\n",
      "|bike|nexus4| 0.02096106490343168|-0.00915222693840...|-0.08538726699652668|1.424751134197978...|1.424752122472926...|326483.0788681517|0.020961064903431633|-0.00915222693840...|-0.08538726699652678|\n",
      "|null|nexus4|-0.00601179783148...|-7.22352747272201...|0.003847526633724176|1.424749016665859...|1.424749940430317...| 219268.945300536|-0.00601179783148...|-7.22352747272203...|0.003847526633724...|\n",
      "+----+------+--------------------+--------------------+--------------------+--------------------+--------------------+-----------------+--------------------+--------------------+--------------------+\n",
      "only showing top 2 rows\n",
      "\n",
      "+----+------+--------------------+--------------------+--------------------+--------------------+--------------------+-----------------+--------------------+--------------------+--------------------+\n",
      "|  gt| model|              avg(x)|              avg(y)|              avg(z)|   avg(Arrival_Time)|  avg(Creation_Time)|       avg(Index)|              avg(x)|              avg(y)|              avg(z)|\n",
      "+----+------+--------------------+--------------------+--------------------+--------------------+--------------------+-----------------+--------------------+--------------------+--------------------+\n",
      "|bike|nexus4| 0.02096106490343168|-0.00915222693840...|-0.08538726699652668|1.424751134197978...|1.424752122472926...|326483.0788681517|0.020961064903431633|-0.00915222693840...|-0.08538726699652678|\n",
      "|null|nexus4|-0.00601179783148...|-7.22352747272201...|0.003847526633724176|1.424749016665859...|1.424749940430317...| 219268.945300536|-0.00601179783148...|-7.22352747272203...|0.003847526633724...|\n",
      "+----+------+--------------------+--------------------+--------------------+--------------------+--------------------+-----------------+--------------------+--------------------+--------------------+\n",
      "only showing top 2 rows\n",
      "\n",
      "+----+------+--------------------+--------------------+--------------------+--------------------+--------------------+-----------------+--------------------+--------------------+--------------------+\n",
      "|  gt| model|              avg(x)|              avg(y)|              avg(z)|   avg(Arrival_Time)|  avg(Creation_Time)|       avg(Index)|              avg(x)|              avg(y)|              avg(z)|\n",
      "+----+------+--------------------+--------------------+--------------------+--------------------+--------------------+-----------------+--------------------+--------------------+--------------------+\n",
      "|bike|nexus4| 0.02096106490343168|-0.00915222693840...|-0.08538726699652668|1.424751134197978...|1.424752122472926...|326483.0788681517|0.020961064903431633|-0.00915222693840...|-0.08538726699652678|\n",
      "|null|nexus4|-0.00601179783148...|-7.22352747272201...|0.003847526633724176|1.424749016665859...|1.424749940430317...| 219268.945300536|-0.00601179783148...|-7.22352747272203...|0.003847526633724...|\n",
      "+----+------+--------------------+--------------------+--------------------+--------------------+--------------------+-----------------+--------------------+--------------------+--------------------+\n",
      "only showing top 2 rows\n",
      "\n",
      "+----+------+--------------------+--------------------+--------------------+--------------------+--------------------+-----------------+--------------------+--------------------+--------------------+\n",
      "|  gt| model|              avg(x)|              avg(y)|              avg(z)|   avg(Arrival_Time)|  avg(Creation_Time)|       avg(Index)|              avg(x)|              avg(y)|              avg(z)|\n",
      "+----+------+--------------------+--------------------+--------------------+--------------------+--------------------+-----------------+--------------------+--------------------+--------------------+\n",
      "|bike|nexus4| 0.02096106490343168|-0.00915222693840...|-0.08538726699652668|1.424751134197978...|1.424752122472926...|326483.0788681517|0.020961064903431633|-0.00915222693840...|-0.08538726699652678|\n",
      "|null|nexus4|-0.00601179783148...|-7.22352747272201...|0.003847526633724176|1.424749016665859...|1.424749940430317...| 219268.945300536|-0.00601179783148...|-7.22352747272203...|0.003847526633724...|\n",
      "+----+------+--------------------+--------------------+--------------------+--------------------+--------------------+-----------------+--------------------+--------------------+--------------------+\n",
      "only showing top 2 rows\n",
      "\n"
     ]
    }
   ],
   "source": [
    "for x in range(5):\n",
    " spark.sql(\"SELECT * FROM device_counts_joined_with_static\").show(2)\n",
    " sleep(1)"
   ]
  },
  {
   "cell_type": "markdown",
   "metadata": {},
   "source": [
    "#### Trigger \n",
    "( when to write, the ones before was as soon as the current processing is done)"
   ]
  },
  {
   "cell_type": "code",
   "execution_count": 20,
   "metadata": {},
   "outputs": [
    {
     "data": {
      "text/plain": [
       "<pyspark.sql.streaming.StreamingQuery at 0x1da6cd25748>"
      ]
     },
     "execution_count": 20,
     "metadata": {},
     "output_type": "execute_result"
    }
   ],
   "source": [
    "#Processing time trigger\n",
    "activityCounts.writeStream.trigger(processingTime='5 seconds').format(\"console\").outputMode(\"complete\").start()"
   ]
  },
  {
   "cell_type": "code",
   "execution_count": null,
   "metadata": {},
   "outputs": [],
   "source": [
    "#Once trigger\n",
    "activityCounts.writeStream.trigger(once=True).format(\"console\").outputMode(\"complete\").start()"
   ]
  },
  {
   "cell_type": "markdown",
   "metadata": {},
   "source": [
    "#### Windows on Event Time ( Sstateful streaming)"
   ]
  },
  {
   "cell_type": "code",
   "execution_count": 24,
   "metadata": {},
   "outputs": [],
   "source": [
    "streaming = spark.readStream.schema(schema).option(\"maxFilesPerTrigger\", 1).json(\"data/activity-data/\")\n",
    "withEventTime = streaming.selectExpr(\"*\",\"cast(cast(Creation_Time as double)/1000000000 as timestamp) as event_time\")"
   ]
  },
  {
   "cell_type": "markdown",
   "metadata": {},
   "source": [
    "###### Tumbling Windows\n",
    "operate on the data received since the last trigger"
   ]
  },
  {
   "cell_type": "code",
   "execution_count": 29,
   "metadata": {},
   "outputs": [
    {
     "data": {
      "text/plain": [
       "<pyspark.sql.streaming.StreamingQuery at 0x1da6ccaeec8>"
      ]
     },
     "execution_count": 29,
     "metadata": {},
     "output_type": "execute_result"
    }
   ],
   "source": [
    "withEventTime.groupBy(window(col(\"event_time\"), \"10 minutes\")).count()\\\n",
    ".writeStream\\\n",
    ".queryName(\"events_per_window_tumbling\")\\\n",
    ".format(\"memory\")\\\n",
    ".outputMode(\"complete\")\\\n",
    ".start()"
   ]
  },
  {
   "cell_type": "code",
   "execution_count": 32,
   "metadata": {},
   "outputs": [
    {
     "name": "stdout",
     "output_type": "stream",
     "text": [
      "+--------------------+-----+\n",
      "|              window|count|\n",
      "+--------------------+-----+\n",
      "|[2015-02-24 17:20...| 3762|\n",
      "|[2015-02-24 18:30...| 3383|\n",
      "+--------------------+-----+\n",
      "only showing top 2 rows\n",
      "\n",
      "root\n",
      " |-- window: struct (nullable = false)\n",
      " |    |-- start: timestamp (nullable = true)\n",
      " |    |-- end: timestamp (nullable = true)\n",
      " |-- count: long (nullable = false)\n",
      "\n"
     ]
    }
   ],
   "source": [
    "spark.sql(\"SELECT * FROM events_per_window_tumbling\").show(2)\n",
    "spark.sql(\"SELECT * FROM events_per_window_tumbling\").printSchema()  # we get a struct in return, not a list"
   ]
  },
  {
   "cell_type": "code",
   "execution_count": 33,
   "metadata": {},
   "outputs": [
    {
     "name": "stdout",
     "output_type": "stream",
     "text": [
      "+------+----+-----+\n",
      "|window|User|count|\n",
      "+------+----+-----+\n",
      "+------+----+-----+\n",
      "\n"
     ]
    }
   ],
   "source": [
    "# most of the normal operations are allowed\n",
    "withEventTime.groupBy(window(col(\"event_time\"), \"10 minutes\"), \"User\").count()\\\n",
    ".writeStream\\\n",
    ".queryName(\"events_per_window_tumbling_agg\")\\\n",
    ".format(\"memory\")\\\n",
    ".outputMode(\"complete\")\\\n",
    ".start()"
   ]
  },
  {
   "cell_type": "code",
   "execution_count": 34,
   "metadata": {},
   "outputs": [
    {
     "name": "stdout",
     "output_type": "stream",
     "text": [
      "+--------------------+----+-----+\n",
      "|              window|User|count|\n",
      "+--------------------+----+-----+\n",
      "|[2015-02-24 17:50...|   f| 3341|\n",
      "|[2015-02-24 18:30...|   f|  850|\n",
      "+--------------------+----+-----+\n",
      "only showing top 2 rows\n",
      "\n"
     ]
    }
   ],
   "source": [
    "spark.sql(\"SELECT * FROM events_per_window_tumbling_agg\").show(2)"
   ]
  },
  {
   "cell_type": "markdown",
   "metadata": {},
   "source": [
    "###### Sliding windows\n",
    "Check what happened in last 10 mins, keep checking every 5 mins."
   ]
  },
  {
   "cell_type": "code",
   "execution_count": 36,
   "metadata": {},
   "outputs": [
    {
     "data": {
      "text/plain": [
       "<pyspark.sql.streaming.StreamingQuery at 0x1da6b3d4948>"
      ]
     },
     "execution_count": 36,
     "metadata": {},
     "output_type": "execute_result"
    }
   ],
   "source": [
    "withEventTime.groupBy(window(col(\"event_time\"), \"10 minutes\", \"5 minutes\"))\\\n",
    ".count()\\\n",
    ".writeStream\\\n",
    ".queryName(\"events_per_window_sliding\")\\\n",
    ".format(\"memory\")\\\n",
    ".outputMode(\"complete\")\\\n",
    ".start()"
   ]
  },
  {
   "cell_type": "code",
   "execution_count": 37,
   "metadata": {},
   "outputs": [
    {
     "name": "stdout",
     "output_type": "stream",
     "text": [
      "+--------------------+----+-----+\n",
      "|              window|User|count|\n",
      "+--------------------+----+-----+\n",
      "|[2015-02-24 17:50...|   f| 3341|\n",
      "|[2015-02-24 18:30...|   f|  850|\n",
      "|[2015-02-24 20:20...|   e| 3214|\n",
      "|[2015-02-23 20:00...|   h| 2337|\n",
      "|[2015-02-24 19:40...|   e| 1699|\n",
      "|[2015-02-24 18:30...|   d| 2533|\n",
      "|[2015-02-24 19:50...|   b| 2559|\n",
      "|[2015-02-23 18:00...|   c| 2545|\n",
      "|[2015-02-23 15:50...|   g| 2458|\n",
      "|[2015-02-24 19:00...|   b| 2052|\n",
      "|[2015-02-24 20:30...|   e| 2499|\n",
      "|[2015-02-23 19:10...|   a| 2819|\n",
      "|[2015-02-22 06:10...|   a|    1|\n",
      "|[2015-02-24 19:50...|   e| 2815|\n",
      "|[2015-02-23 19:20...|   h| 2349|\n",
      "|[2015-02-23 16:40...|   g| 2263|\n",
      "|[2015-02-24 18:40...|   d| 2646|\n",
      "|[2015-02-24 17:30...|   i| 2336|\n",
      "|[2015-02-23 18:30...|   a| 1619|\n",
      "|[2015-02-24 18:50...|   d| 2727|\n",
      "+--------------------+----+-----+\n",
      "only showing top 20 rows\n",
      "\n"
     ]
    }
   ],
   "source": [
    "spark.sql(\"SELECT * FROM events_per_window_tumbling_agg\").show(2)"
   ]
  },
  {
   "cell_type": "markdown",
   "metadata": {},
   "source": [
    "###### Watermark\n",
    "The above two are event time processing, so new data can appear with an old timestamp. Watermark is the timeframe marking, anything older than this is discarded."
   ]
  },
  {
   "cell_type": "code",
   "execution_count": 38,
   "metadata": {},
   "outputs": [
    {
     "data": {
      "text/plain": [
       "<pyspark.sql.streaming.StreamingQuery at 0x1da6ccc6388>"
      ]
     },
     "execution_count": 38,
     "metadata": {},
     "output_type": "execute_result"
    }
   ],
   "source": [
    "withEventTime\\\n",
    ".withWatermark(\"event_time\", \"30 minutes\")\\\n",
    ".groupBy(window(col(\"event_time\"), \"10 minutes\", \"5 minutes\"))\\\n",
    ".count()\\\n",
    ".writeStream\\\n",
    ".queryName(\"events_per_window_with_watermark\")\\\n",
    ".format(\"memory\")\\\n",
    ".outputMode(\"complete\")\\\n",
    ".start()"
   ]
  },
  {
   "cell_type": "markdown",
   "metadata": {},
   "source": [
    "Now, Structured Streaming will wait until 30 minutes after the final timestamp of this 10-minute rolling window before it finalizes the result of that window. We can query our table and see the intermediate results because we’re using complete mode—they’ll be updated over time. In append mode, this information won’t be output until the window closes"
   ]
  },
  {
   "cell_type": "code",
   "execution_count": 39,
   "metadata": {},
   "outputs": [
    {
     "name": "stdout",
     "output_type": "stream",
     "text": [
      "+--------------------+-----+\n",
      "|              window|count|\n",
      "+--------------------+-----+\n",
      "|[2015-02-23 19:45...| 2736|\n",
      "|[2015-02-24 17:20...| 3762|\n",
      "+--------------------+-----+\n",
      "only showing top 2 rows\n",
      "\n"
     ]
    }
   ],
   "source": [
    "spark.sql(\"SELECT * FROM events_per_window_with_watermark\").show(2)"
   ]
  },
  {
   "cell_type": "code",
   "execution_count": null,
   "metadata": {},
   "outputs": [],
   "source": []
  }
 ],
 "metadata": {
  "kernelspec": {
   "display_name": "Python 3",
   "language": "python",
   "name": "python3"
  },
  "language_info": {
   "codemirror_mode": {
    "name": "ipython",
    "version": 3
   },
   "file_extension": ".py",
   "mimetype": "text/x-python",
   "name": "python",
   "nbconvert_exporter": "python",
   "pygments_lexer": "ipython3",
   "version": "3.7.6"
  }
 },
 "nbformat": 4,
 "nbformat_minor": 4
}
