{
 "cells": [
  {
   "cell_type": "code",
   "execution_count": 1,
   "metadata": {},
   "outputs": [],
   "source": [
    "import findspark\n",
    "findspark.init()\n",
    "import pyspark\n",
    "\n",
    "\n",
    "from pyspark.sql import SparkSession\n",
    "spark = SparkSession.builder.getOrCreate()"
   ]
  },
  {
   "cell_type": "markdown",
   "metadata": {},
   "source": [
    "### Read\n",
    "spark.read.format(\"csv\")\\\n",
    ".option(\"mode\", \"FAILFAST\")\\\n",
    ".option(\"inferSchema\", \"true\")\\\n",
    ".option(\"path\", \"path/to/file(s)\")\\\n",
    ".schema(someSchema)\\\n",
    ".load()"
   ]
  },
  {
   "cell_type": "markdown",
   "metadata": {},
   "source": [
    "#### Read mode  \n",
    "permissive     ==>> Sets all fields to null when it encounters a corrupted record and places all corrupted records in a string column called _corrupt_record\\\n",
    "dropMalformed ==>> Drops the row that contains malformed records\\\n",
    "failFast       ==>> Fails immediately upon encountering malformed records"
   ]
  },
  {
   "cell_type": "markdown",
   "metadata": {},
   "source": [
    "### Write \n",
    "spark.write.format(\"csv\")\\\n",
    ".option(\"mode\", \"OVERWRITE\")\\\n",
    ".option(\"dateFormat\", \"yyyy-MM-dd\")\\\n",
    ".option(\"path\", \"path/to/file(s)\")\\\n",
    ".save()\n"
   ]
  },
  {
   "cell_type": "markdown",
   "metadata": {},
   "source": [
    "#### Save mode \n",
    "append ==>> Appends the output files to the list of files that already exist at that location\\\n",
    "overwrite ==>> Will completely overwrite any data that already exists there\\\n",
    "errorIfExists ==>> Throws an error and fails the write if data or files already exist at the specified location\\\n",
    "ignore ==>> If data or files exist at the location, do nothing with the current DataFrame"
   ]
  },
  {
   "cell_type": "code",
   "execution_count": 2,
   "metadata": {},
   "outputs": [],
   "source": [
    "csvDf = spark.read.format(\"csv\")\\\n",
    ".option(\"header\", \"true\")\\\n",
    ".option(\"mode\", \"FAILFAST\")\\\n",
    ".option(\"inferSchema\", \"true\")\\\n",
    ".load(\"../../../data/SparkTheDefinitiveGuide/flight-data/csv/2010-summary.csv\")"
   ]
  },
  {
   "cell_type": "code",
   "execution_count": null,
   "metadata": {},
   "outputs": [],
   "source": [
    "csvDf.write.format(\"csv\")\n",
    ".mode(\"overwrite\")\n",
    ".option(\"sep\", \"\\t\")\n",
    ".save(\"../../../data/SparkTheDefinitiveGuide/tmp/my-tsv-file.tsv\")"
   ]
  },
  {
   "cell_type": "code",
   "execution_count": null,
   "metadata": {},
   "outputs": [],
   "source": [
    "spark.read.format(\"json\").option(\"mode\", \"FAILFAST\")\\\n",
    ".option(\"inferSchema\", \"true\")\\\n",
    ".load(\"/data/flight-data/json/2010-summary.json\").show(5)\n",
    "\n",
    "csvFile.write.format(\"json\").mode(\"overwrite\").save(\"/tmp/my-json-file.json\")"
   ]
  },
  {
   "cell_type": "code",
   "execution_count": null,
   "metadata": {},
   "outputs": [],
   "source": [
    "spark.read.format(\"parquet\").load(\"/data/flight-data/parquet/2010-summary.parquet\").show(5)\n",
    "\n",
    "csvFile.write.format(\"parquet\").mode(\"overwrite\").save(\"/tmp/my-parquet-file.parquet\")"
   ]
  },
  {
   "cell_type": "code",
   "execution_count": null,
   "metadata": {},
   "outputs": [],
   "source": [
    "driver = \"org.sqlite.JDBC\"\n",
    "path = \"/data/flight-data/jdbc/my-sqlite.db\"\n",
    "url = \"jdbc:sqlite:\" + path\n",
    "tablename = \"flight_info\"\n",
    "\n",
    "dbDataFrame = spark.read.format(\"jdbc\").option(\"url\", url)\\\n",
    ".option(\"dbtable\", tablename).option(\"driver\", driver).load()"
   ]
  },
  {
   "cell_type": "code",
   "execution_count": null,
   "metadata": {},
   "outputs": [],
   "source": [
    "pgDF = spark.read.format(\"jdbc\")\\\n",
    ".option(\"driver\", \"org.postgresql.Driver\")\\\n",
    ".option(\"url\", \"jdbc:postgresql://database_server\")\\\n",
    ".option(\"dbtable\", \"schema.tablename\")\\\n",
    ".option(\"user\", \"username\").option(\"password\", \"my-secret-password\").load()"
   ]
  },
  {
   "cell_type": "code",
   "execution_count": null,
   "metadata": {},
   "outputs": [],
   "source": [
    "df.write.option(\"maxRecordsPerFile\", 5000)"
   ]
  }
 ],
 "metadata": {
  "kernelspec": {
   "display_name": "Python 3",
   "language": "python",
   "name": "python3"
  },
  "language_info": {
   "codemirror_mode": {
    "name": "ipython",
    "version": 3
   },
   "file_extension": ".py",
   "mimetype": "text/x-python",
   "name": "python",
   "nbconvert_exporter": "python",
   "pygments_lexer": "ipython3",
   "version": "3.7.6"
  }
 },
 "nbformat": 4,
 "nbformat_minor": 4
}
