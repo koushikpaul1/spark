{
 "cells": [
  {
   "cell_type": "code",
   "execution_count": null,
   "id": "84cdb87d",
   "metadata": {},
   "outputs": [],
   "source": [
    "import findspark\n",
    "findspark.init()\n",
    "import pyspark\n",
    "from pyspark.sql import SparkSession"
   ]
  },
  {
   "cell_type": "code",
   "execution_count": null,
   "id": "a13754a4",
   "metadata": {},
   "outputs": [],
   "source": [
    "spark = SparkSession.builder.getOrCreate()\n",
    "spark.conf.set(\"spark.sql.shuffle.partitions\", \"5\")#When we perform a shuffle, Spark outputs 200 shuffle partitions.\n",
    "print(\"SparkSession created with name as 'spark'\")"
   ]
  },
  {
   "cell_type": "markdown",
   "id": "f0ea3113",
   "metadata": {},
   "source": [
    "####  Create Dataframe"
   ]
  },
  {
   "cell_type": "code",
   "execution_count": null,
   "id": "37c7ecad",
   "metadata": {},
   "outputs": [],
   "source": [
    "myRange = spark.range(1000).toDF(\"number\")\n",
    "myRange.collect()"
   ]
  },
  {
   "cell_type": "code",
   "execution_count": null,
   "id": "cb37f53e",
   "metadata": {},
   "outputs": [],
   "source": [
    "data = [(\"Java\", \"20000\"), (\"Python\", \"100000\")] \n",
    "spark.createDataFrame(data).collect()"
   ]
  },
  {
   "cell_type": "code",
   "execution_count": 7,
   "id": "1f3016ed",
   "metadata": {},
   "outputs": [
    {
     "data": {
      "text/plain": [
       "[Row(_1='Java', _2='20000'), Row(_1='Python', _2='100000')]"
      ]
     },
     "execution_count": 7,
     "metadata": {},
     "output_type": "execute_result"
    }
   ],
   "source": [
    "rdd = spark.sparkContext.parallelize(data)\n",
    "spark.createDataFrame(rdd).collect()     "
   ]
  },
  {
   "cell_type": "code",
   "execution_count": 10,
   "id": "a8f1aa6c",
   "metadata": {},
   "outputs": [
    {
     "data": {
      "text/plain": [
       "[Row(age=None, name='Michael'),\n",
       " Row(age=30, name='Andy'),\n",
       " Row(age=19, name='Justin')]"
      ]
     },
     "execution_count": 10,
     "metadata": {},
     "output_type": "execute_result"
    }
   ],
   "source": [
    "df=spark.read.json(\"../data/people.json\")\n",
    "df.collect()"
   ]
  },
  {
   "cell_type": "code",
   "execution_count": 18,
   "id": "d9a18757",
   "metadata": {},
   "outputs": [
    {
     "data": {
      "text/plain": [
       "[Row(DEST_COUNTRY_NAME='United States', ORIGIN_COUNTRY_NAME='Romania', count=15),\n",
       " Row(DEST_COUNTRY_NAME='United States', ORIGIN_COUNTRY_NAME='Croatia', count=1),\n",
       " Row(DEST_COUNTRY_NAME='United States', ORIGIN_COUNTRY_NAME='Ireland', count=344)]"
      ]
     },
     "execution_count": 18,
     "metadata": {},
     "output_type": "execute_result"
    }
   ],
   "source": [
    "flightData2015 = spark.read.option(\"inferSchema\", \"true\")\\\n",
    ".option(\"header\", \"true\").csv(\"../../../../hadoopedge/bigdata/modules/spark/git/data/SparkTheDefinitiveGuide/flight-data/csv/2015-summary.csv\")\n",
    "#flightData2015.head(3)\n",
    "flightData2015.take(3)"
   ]
  },
  {
   "cell_type": "code",
   "execution_count": null,
   "id": "c9a874e9",
   "metadata": {},
   "outputs": [],
   "source": []
  }
 ],
 "metadata": {
  "kernelspec": {
   "display_name": "Python 3 (ipykernel)",
   "language": "python",
   "name": "python3"
  },
  "language_info": {
   "codemirror_mode": {
    "name": "ipython",
    "version": 3
   },
   "file_extension": ".py",
   "mimetype": "text/x-python",
   "name": "python",
   "nbconvert_exporter": "python",
   "pygments_lexer": "ipython3",
   "version": "3.9.12"
  }
 },
 "nbformat": 4,
 "nbformat_minor": 5
}
