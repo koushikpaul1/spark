{
 "cells": [
  {
   "cell_type": "markdown",
   "id": "d17aa7d5",
   "metadata": {},
   "source": [
    "#### Guiding Questions:\n",
    "Who are the winners of the D1 division in the Germany Football Association (Bundesliga) in the last decade?\n",
    "\n",
    "Which teams have been relegated in the past 10 years?\n",
    "\n",
    "Does Octoberfest affect the performance of Bundesliga?\n",
    "\n",
    "Which season of Bundesliga was the most competitive in the last decade?\n",
    "\n",
    "What's the best month to watch Bundesliga?"
   ]
  },
  {
   "cell_type": "code",
   "execution_count": 2,
   "id": "ffc7429e",
   "metadata": {},
   "outputs": [],
   "source": [
    "import findspark\n",
    "findspark.init()\n",
    "import pyspark\n",
    "\n",
    "\n",
    "from pyspark.sql import SparkSession\n",
    "spark = SparkSession.builder.getOrCreate()"
   ]
  },
  {
   "cell_type": "code",
   "execution_count": 3,
   "id": "49d585be",
   "metadata": {},
   "outputs": [],
   "source": [
    "from pyspark.sql import Row\n",
    "from pyspark.sql.functions import instr,col,column, expr, coalesce, broadcast\n",
    "from pyspark.sql.functions import count, first, last,min, max, sum, avg, sumDistinct,sum_distinct, pow, desc, countDistinct, approx_count_distinct, dense_rank, rank\n",
    "from pyspark.sql.functions import corr, round, bround, monotonically_increasing_id, mean, format_number, var_pop, stddev_pop,var_samp, stddev_samp, skewness, kurtosis, covar_pop, covar_samp\n",
    "from pyspark.sql.functions import initcap , lower, upper, lit, ltrim, rtrim, rpad, lpad, trim, regexp_replace, regexp_extract, translate, collect_set, collect_list\n",
    "from pyspark.sql.functions import when,current_date, current_timestamp, date_add, date_sub, datediff, to_date, months_between, dayofmonth,hour,dayofyear,month,year,weekofyear,date_format\n",
    "from pyspark.sql.window import Window"
   ]
  },
  {
   "cell_type": "code",
   "execution_count": 4,
   "id": "49d720ab",
   "metadata": {},
   "outputs": [],
   "source": [
    "df_matches  = spark.read.csv('data/Matches.csv',inferSchema=True,header=True)\n",
    "df_teams  = spark.read.csv('data/Teams.csv',inferSchema=True,header=True)\n",
    "df_team_matches  = spark.read.csv('data/Teams_in_Matches.csv',inferSchema=True,header=True)\n",
    "df_team_id  = spark.read.csv('data/Unique_Teams.csv',inferSchema=True,header=True)"
   ]
  },
  {
   "cell_type": "code",
   "execution_count": 5,
   "id": "cd64ca8e",
   "metadata": {},
   "outputs": [
    {
     "name": "stdout",
     "output_type": "stream",
     "text": [
      "+--------+---+------+-------------------+-------------+--------------+----+----+---+\n",
      "|Match_ID|Div|Season|               Date|     HomeTeam|      AwayTeam|FTHG|FTAG|FTR|\n",
      "+--------+---+------+-------------------+-------------+--------------+----+----+---+\n",
      "|       1| D2|  2009|2010-04-04 00:00:00|   Oberhausen|Kaiserslautern|   2|   1|  H|\n",
      "|       2| D2|  2009|2009-11-01 00:00:00|  Munich 1860|Kaiserslautern|   0|   1|  A|\n",
      "|       3| D2|  2009|2009-10-04 00:00:00|Frankfurt FSV|Kaiserslautern|   1|   1|  D|\n",
      "|       4| D2|  2009|2010-02-21 00:00:00|Frankfurt FSV|     Karlsruhe|   2|   1|  H|\n",
      "|       5| D2|  2009|2009-12-06 00:00:00|        Ahlen|     Karlsruhe|   1|   3|  A|\n",
      "+--------+---+------+-------------------+-------------+--------------+----+----+---+\n",
      "only showing top 5 rows\n",
      "\n",
      "+------+-------------+---------+----------+------------------+----------------------+------------------+---------------+\n",
      "|Season|     TeamName|KaderHome|AvgAgeHome|ForeignPlayersHome|OverallMarketValueHome|AvgMarketValueHome|StadiumCapacity|\n",
      "+------+-------------+---------+----------+------------------+----------------------+------------------+---------------+\n",
      "|  2017|Bayern Munich|       27|        26|                15|             597950000|          22150000|          75000|\n",
      "|  2017|     Dortmund|       33|        25|                18|             416730000|          12630000|          81359|\n",
      "|  2017|   Leverkusen|       31|        24|                15|             222600000|           7180000|          30210|\n",
      "|  2017|   RB Leipzig|       30|        23|                15|             180130000|           6000000|          42959|\n",
      "|  2017|   Schalke 04|       29|        24|                17|             179550000|           6190000|          62271|\n",
      "+------+-------------+---------+----------+------------------+----------------------+------------------+---------------+\n",
      "only showing top 5 rows\n",
      "\n",
      "+--------+--------------+\n",
      "|Match_ID|Unique_Team_ID|\n",
      "+--------+--------------+\n",
      "|       1|            26|\n",
      "|       1|            46|\n",
      "|       2|            26|\n",
      "|       2|            42|\n",
      "|       3|            26|\n",
      "+--------+--------------+\n",
      "only showing top 5 rows\n",
      "\n",
      "+-------------+--------------+\n",
      "|     TeamName|Unique_Team_ID|\n",
      "+-------------+--------------+\n",
      "|Bayern Munich|             1|\n",
      "|     Dortmund|             2|\n",
      "|   Leverkusen|             3|\n",
      "|   RB Leipzig|             4|\n",
      "|   Schalke 04|             5|\n",
      "+-------------+--------------+\n",
      "only showing top 5 rows\n",
      "\n"
     ]
    }
   ],
   "source": [
    "df_matches.show(5)\n",
    "df_teams.select('*').show(5)\n",
    "df_team_matches.show(5)\n",
    "df_team_id.show(5)"
   ]
  },
  {
   "cell_type": "code",
   "execution_count": 14,
   "id": "4906cff1",
   "metadata": {},
   "outputs": [
    {
     "name": "stdout",
     "output_type": "stream",
     "text": [
      "+-----+------------+---------+---------+\n",
      "|month|count(month)|sum(FTHG)|sum(FTAG)|\n",
      "+-----+------------+---------+---------+\n",
      "|   12|        2614|     3859|     2842|\n",
      "|    1|        1331|     1901|     1360|\n",
      "|    6|         128|      253|      186|\n",
      "|    3|        2732|     4148|     2897|\n",
      "|    5|        2075|     3502|     2502|\n",
      "|    9|        2528|     3892|     2843|\n",
      "|    4|        3233|     4793|     3439|\n",
      "|    8|        2266|     3335|     2590|\n",
      "|    7|         107|      121|       81|\n",
      "|   10|        2542|     3992|     2813|\n",
      "|   11|        2646|     4066|     2884|\n",
      "|    2|        2423|     3495|     2589|\n",
      "+-----+------------+---------+---------+\n",
      "\n"
     ]
    }
   ],
   "source": [
    "df1 = df_matches.withColumn('month',month(df_matches.Date))\n",
    "df2=df1.groupby('month').agg(count(col('month')),sum('FTHG'),sum('FTAG'))\n",
    "df2.show()"
   ]
  },
  {
   "cell_type": "code",
   "execution_count": 20,
   "id": "62414dea",
   "metadata": {},
   "outputs": [
    {
     "name": "stdout",
     "output_type": "stream",
     "text": [
      "+----+-----------+---------+---------+\n",
      "|year|count(year)|sum(FTHG)|sum(FTAG)|\n",
      "+----+-----------+---------+---------+\n",
      "|2003|        970|     1535|     1136|\n",
      "|2007|        976|     1548|     1135|\n",
      "|2018|        297|     -297|     -297|\n",
      "|2015|        992|     1440|     1147|\n",
      "|2006|       1008|     1496|     1064|\n",
      "|2013|        983|     1517|     1217|\n",
      "|1997|       1029|     1678|     1146|\n",
      "|1994|       1078|     1743|     1229|\n",
      "|2014|        993|     1525|     1196|\n",
      "|2004|       1004|     1638|     1132|\n",
      "|1996|        968|     1527|     1061|\n",
      "|1998|        981|     1509|     1091|\n",
      "|2012|       1003|     1582|     1202|\n",
      "|2009|        980|     1518|     1139|\n",
      "|2016|        963|     1495|     1164|\n",
      "|1995|       1056|     1681|     1145|\n",
      "|2001|        985|     1553|     1163|\n",
      "|2005|        985|     1528|     1125|\n",
      "|2000|       1024|     1765|     1186|\n",
      "|2010|        985|     1584|     1121|\n",
      "+----+-----------+---------+---------+\n",
      "only showing top 20 rows\n",
      "\n"
     ]
    }
   ],
   "source": [
    "df3 = df_matches.withColumn('year',year(df_matches.Date))\n",
    "df4=df3.groupby('year').agg(count(col('year')),sum('FTHG'),sum('FTAG'))\n",
    "df4.show()"
   ]
  },
  {
   "cell_type": "code",
   "execution_count": null,
   "id": "94eb4b84",
   "metadata": {},
   "outputs": [],
   "source": []
  }
 ],
 "metadata": {
  "kernelspec": {
   "display_name": "Python 3 (ipykernel)",
   "language": "python",
   "name": "python3"
  },
  "language_info": {
   "codemirror_mode": {
    "name": "ipython",
    "version": 3
   },
   "file_extension": ".py",
   "mimetype": "text/x-python",
   "name": "python",
   "nbconvert_exporter": "python",
   "pygments_lexer": "ipython3",
   "version": "3.9.12"
  }
 },
 "nbformat": 4,
 "nbformat_minor": 5
}
