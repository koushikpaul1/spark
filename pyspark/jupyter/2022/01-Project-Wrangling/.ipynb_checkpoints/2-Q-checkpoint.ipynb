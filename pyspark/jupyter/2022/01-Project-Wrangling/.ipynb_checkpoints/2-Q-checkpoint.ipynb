{
 "cells": [
  {
   "cell_type": "markdown",
   "id": "c6ad0ba3",
   "metadata": {},
   "source": [
    "#### Guiding Questions:\n",
    "Who are the winners of the D1 division in the Germany Football Association (Bundesliga) in the last decade?\n",
    "\n",
    "Which teams have been relegated in the past 10 years?\n",
    "\n",
    "Does Octoberfest affect the performance of Bundesliga?\n",
    "\n",
    "Which season of Bundesliga was the most competitive in the last decade?\n",
    "\n",
    "What's the best month to watch Bundesliga?"
   ]
  },
  {
   "cell_type": "code",
   "execution_count": 1,
   "id": "c0be71e2",
   "metadata": {},
   "outputs": [],
   "source": [
    "import findspark\n",
    "findspark.init()\n",
    "import pyspark\n",
    "\n",
    "\n",
    "from pyspark.sql import SparkSession\n",
    "spark = SparkSession.builder.getOrCreate()"
   ]
  },
  {
   "cell_type": "code",
   "execution_count": 2,
   "id": "153c9df4",
   "metadata": {},
   "outputs": [],
   "source": [
    "from pyspark.sql import Row\n",
    "from pyspark.sql.functions import instr,col,column, expr, coalesce, broadcast\n",
    "from pyspark.sql.functions import count, first, last,min, max, sum, avg, sumDistinct,sum_distinct, pow, desc, countDistinct, approx_count_distinct, dense_rank, rank\n",
    "from pyspark.sql.functions import corr, round, bround, monotonically_increasing_id, mean, format_number, var_pop, stddev_pop,var_samp, stddev_samp, skewness, kurtosis, covar_pop, covar_samp\n",
    "from pyspark.sql.functions import initcap , lower, upper, lit, ltrim, rtrim, rpad, lpad, trim, regexp_replace, regexp_extract, translate, collect_set, collect_list\n",
    "from pyspark.sql.functions import when,current_date, current_timestamp, date_add, date_sub, datediff, to_date, months_between, dayofmonth,hour,dayofyear,month,year,weekofyear,date_format\n",
    "from pyspark.sql.window import Window"
   ]
  },
  {
   "cell_type": "code",
   "execution_count": 3,
   "id": "3ca38b29",
   "metadata": {},
   "outputs": [],
   "source": [
    "df_matches  = spark.read.csv('data/Matches.csv',inferSchema=True,header=True)\n",
    "df_teams  = spark.read.csv('data/Teams.csv',inferSchema=True,header=True)\n",
    "df_team_matches  = spark.read.csv('data/Teams_in_Matches.csv',inferSchema=True,header=True)\n",
    "df_team_id  = spark.read.csv('data/Unique_Teams.csv',inferSchema=True,header=True)"
   ]
  },
  {
   "cell_type": "code",
   "execution_count": 13,
   "id": "91c71e51",
   "metadata": {},
   "outputs": [
    {
     "name": "stdout",
     "output_type": "stream",
     "text": [
      "+--------+---+------+-------------------+-------------+--------------+----+----+---+\n",
      "|Match_ID|Div|Season|               Date|     HomeTeam|      AwayTeam|FTHG|FTAG|FTR|\n",
      "+--------+---+------+-------------------+-------------+--------------+----+----+---+\n",
      "|       1| D2|  2009|2010-04-04 00:00:00|   Oberhausen|Kaiserslautern|   2|   1|  H|\n",
      "|       2| D2|  2009|2009-11-01 00:00:00|  Munich 1860|Kaiserslautern|   0|   1|  A|\n",
      "|       3| D2|  2009|2009-10-04 00:00:00|Frankfurt FSV|Kaiserslautern|   1|   1|  D|\n",
      "|       4| D2|  2009|2010-02-21 00:00:00|Frankfurt FSV|     Karlsruhe|   2|   1|  H|\n",
      "|       5| D2|  2009|2009-12-06 00:00:00|        Ahlen|     Karlsruhe|   1|   3|  A|\n",
      "+--------+---+------+-------------------+-------------+--------------+----+----+---+\n",
      "only showing top 5 rows\n",
      "\n",
      "+------+-------------+---------+----------+------------------+----------------------+------------------+---------------+\n",
      "|Season|     TeamName|KaderHome|AvgAgeHome|ForeignPlayersHome|OverallMarketValueHome|AvgMarketValueHome|StadiumCapacity|\n",
      "+------+-------------+---------+----------+------------------+----------------------+------------------+---------------+\n",
      "|  2017|Bayern Munich|       27|        26|                15|             597950000|          22150000|          75000|\n",
      "|  2017|     Dortmund|       33|        25|                18|             416730000|          12630000|          81359|\n",
      "|  2017|   Leverkusen|       31|        24|                15|             222600000|           7180000|          30210|\n",
      "|  2017|   RB Leipzig|       30|        23|                15|             180130000|           6000000|          42959|\n",
      "|  2017|   Schalke 04|       29|        24|                17|             179550000|           6190000|          62271|\n",
      "+------+-------------+---------+----------+------------------+----------------------+------------------+---------------+\n",
      "only showing top 5 rows\n",
      "\n",
      "+--------+--------------+\n",
      "|Match_ID|Unique_Team_ID|\n",
      "+--------+--------------+\n",
      "|       1|            26|\n",
      "|       1|            46|\n",
      "|       2|            26|\n",
      "|       2|            42|\n",
      "|       3|            26|\n",
      "+--------+--------------+\n",
      "only showing top 5 rows\n",
      "\n",
      "+-------------+--------------+\n",
      "|     TeamName|Unique_Team_ID|\n",
      "+-------------+--------------+\n",
      "|Bayern Munich|             1|\n",
      "|     Dortmund|             2|\n",
      "|   Leverkusen|             3|\n",
      "|   RB Leipzig|             4|\n",
      "|   Schalke 04|             5|\n",
      "+-------------+--------------+\n",
      "only showing top 5 rows\n",
      "\n"
     ]
    }
   ],
   "source": [
    "df_matches.show(5)\n",
    "df_teams.select('*').show(5)\n",
    "df_team_matches.show(5)\n",
    "df_team_id.show(5)"
   ]
  },
  {
   "cell_type": "code",
   "execution_count": 65,
   "id": "5acf9c2e",
   "metadata": {},
   "outputs": [],
   "source": [
    "df1=df_matches.select(col('Season'),col('HomeTeam').alias('Team'),col('Div'))\\\n",
    "    .union(df_matches.select(col('Season'),col('AwayTeam').alias('Team'),col('Div')))"
   ]
  },
  {
   "cell_type": "code",
   "execution_count": 66,
   "id": "eb503679",
   "metadata": {},
   "outputs": [],
   "source": [
    "#df2=df1.groupby('HomeTeam','Season','Div').agg(count('*')).orderBy(col('HomeTeam').desc(),col('Season').desc(),col('Div').desc())\n",
    "df2=df1.groupby('Team','Season','Div').agg(count('*')).orderBy('Team','Season', ascending=False)"
   ]
  },
  {
   "cell_type": "code",
   "execution_count": 83,
   "id": "5d3683ae",
   "metadata": {},
   "outputs": [],
   "source": [
    "df3=df2.alias('a').join(df2.alias('b'),(col('a.Team')==col('b.Team'))&(col('a.Season')>col('b.Season'))&(col('a.Div')>col('b.Div')))\n",
    "df4=df3.select('a.Team').distinct()"
   ]
  },
  {
   "cell_type": "code",
   "execution_count": 86,
   "id": "9291ec39",
   "metadata": {},
   "outputs": [
    {
     "name": "stdout",
     "output_type": "stream",
     "text": [
      "+--------------+\n",
      "|          Team|\n",
      "+--------------+\n",
      "|         Mainz|\n",
      "|Kaiserslautern|\n",
      "|      Nurnberg|\n",
      "|           Ulm|\n",
      "|        Bochum|\n",
      "|     Darmstadt|\n",
      "|    RB Leipzig|\n",
      "|        Hertha|\n",
      "|  Unterhaching|\n",
      "|       Dresden|\n",
      "|  Wattenscheid|\n",
      "|     Uerdingen|\n",
      "|     Bielefeld|\n",
      "|       Cottbus|\n",
      "|       FC Koln|\n",
      "|      Freiburg|\n",
      "| Ein Frankfurt|\n",
      "|      Hannover|\n",
      "|    Dusseldorf|\n",
      "|      Duisburg|\n",
      "+--------------+\n",
      "only showing top 20 rows\n",
      "\n"
     ]
    }
   ],
   "source": [
    "df4.show()"
   ]
  }
 ],
 "metadata": {
  "kernelspec": {
   "display_name": "Python 3 (ipykernel)",
   "language": "python",
   "name": "python3"
  },
  "language_info": {
   "codemirror_mode": {
    "name": "ipython",
    "version": 3
   },
   "file_extension": ".py",
   "mimetype": "text/x-python",
   "name": "python",
   "nbconvert_exporter": "python",
   "pygments_lexer": "ipython3",
   "version": "3.9.12"
  }
 },
 "nbformat": 4,
 "nbformat_minor": 5
}
