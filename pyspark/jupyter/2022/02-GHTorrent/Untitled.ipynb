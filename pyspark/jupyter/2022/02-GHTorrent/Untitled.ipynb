{
 "cells": [
  {
   "cell_type": "code",
   "execution_count": 1,
   "id": "1e026e6c",
   "metadata": {},
   "outputs": [],
   "source": [
    "import findspark\n",
    "findspark.init()\n",
    "import pyspark\n",
    "from pyspark.sql import SparkSession\n",
    "spark = SparkSession.builder.getOrCreate()"
   ]
  },
  {
   "cell_type": "code",
   "execution_count": 2,
   "id": "0c7e172b",
   "metadata": {},
   "outputs": [],
   "source": [
    "from pyspark.sql import Row\n",
    "from pyspark.sql.functions import instr,col,column, expr, coalesce, broadcast\n",
    "from pyspark.sql.functions import count, first, last,min, max, sum, avg, sumDistinct,sum_distinct, pow, desc, countDistinct, approx_count_distinct, dense_rank, rank\n",
    "from pyspark.sql.functions import corr, round, bround, monotonically_increasing_id, mean, format_number, var_pop, stddev_pop,var_samp, stddev_samp, skewness, kurtosis, covar_pop, covar_samp\n",
    "from pyspark.sql.functions import initcap , lower, upper, lit, ltrim, rtrim, rpad, lpad, trim, regexp_replace, regexp_extract, translate, collect_set, collect_list\n",
    "from pyspark.sql.functions import when,current_date, current_timestamp, date_add, date_sub, datediff, to_date, months_between, dayofmonth,hour,dayofyear,month,year,weekofyear,date_format\n",
    "from pyspark.sql.window import Window"
   ]
  },
  {
   "cell_type": "code",
   "execution_count": 3,
   "id": "7f0752e7",
   "metadata": {},
   "outputs": [
    {
     "data": {
      "text/plain": [
       "[Database(name='default', description='default database', locationUri='file:/F:/git/spark/pyspark/jupyter/2022/02-GHTorrent/spark-warehouse')]"
      ]
     },
     "execution_count": 3,
     "metadata": {},
     "output_type": "execute_result"
    }
   ],
   "source": [
    "spark.catalog.listDatabases()"
   ]
  },
  {
   "cell_type": "code",
   "execution_count": 11,
   "id": "ae3afcde",
   "metadata": {},
   "outputs": [
    {
     "name": "stdout",
     "output_type": "stream",
     "text": [
      "+---+------------+--------+-------+-------+-------+----+-------+---+-----+--------+--------+-----+--------+-------+\n",
      "|age|         job| marital|default|balance|housing|loan|contact|day|month|duration|campaign|pdays|previous|deposit|\n",
      "+---+------------+--------+-------+-------+-------+----+-------+---+-----+--------+--------+-----+--------+-------+\n",
      "| 58|  management| married|     no|   2143|    yes|  no|unknown|  5|  may|     261|       1|   -1|       0|     no|\n",
      "| 44|  technician|  single|     no|     29|    yes|  no|unknown|  5|  may|     151|       1|   -1|       0|     no|\n",
      "| 33|entrepreneur| married|     no|      2|    yes| yes|unknown|  5|  may|      76|       1|   -1|       0|     no|\n",
      "| 47| blue-collar| married|     no|   1506|    yes|  no|unknown|  5|  may|      92|       1|   -1|       0|     no|\n",
      "| 33|     unknown|  single|     no|      1|     no|  no|unknown|  5|  may|     198|       1|   -1|       0|     no|\n",
      "| 35|  management| married|     no|    231|    yes|  no|unknown|  5|  may|     139|       1|   -1|       0|     no|\n",
      "| 28|  management|  single|     no|    447|    yes| yes|unknown|  5|  may|     217|       1|   -1|       0|     no|\n",
      "| 42|entrepreneur|divorced|    yes|      2|    yes|  no|unknown|  5|  may|     380|       1|   -1|       0|     no|\n",
      "| 58|     retired| married|     no|    121|    yes|  no|unknown|  5|  may|      50|       1|   -1|       0|     no|\n",
      "| 43|  technician|  single|     no|    593|    yes|  no|unknown|  5|  may|      55|       1|   -1|       0|     no|\n",
      "| 41|      admin.|divorced|     no|    270|    yes|  no|unknown|  5|  may|     222|       1|   -1|       0|     no|\n",
      "| 29|      admin.|  single|     no|    390|    yes|  no|unknown|  5|  may|     137|       1|   -1|       0|     no|\n",
      "| 53|  technician| married|     no|      6|    yes|  no|unknown|  5|  may|     517|       1|   -1|       0|     no|\n",
      "| 58|  technician| married|     no|     71|    yes|  no|unknown|  5|  may|      71|       1|   -1|       0|     no|\n",
      "| 57|    services| married|     no|    162|    yes|  no|unknown|  5|  may|     174|       1|   -1|       0|     no|\n",
      "| 51|     retired| married|     no|    229|    yes|  no|unknown|  5|  may|     353|       1|   -1|       0|     no|\n",
      "| 45|      admin.|  single|     no|     13|    yes|  no|unknown|  5|  may|      98|       1|   -1|       0|     no|\n",
      "| 57| blue-collar| married|     no|     52|    yes|  no|unknown|  5|  may|      38|       1|   -1|       0|     no|\n",
      "| 60|     retired| married|     no|     60|    yes|  no|unknown|  5|  may|     219|       1|   -1|       0|     no|\n",
      "| 33|    services| married|     no|      0|    yes|  no|unknown|  5|  may|      54|       1|   -1|       0|     no|\n",
      "+---+------------+--------+-------+-------+-------+----+-------+---+-----+--------+--------+-----+--------+-------+\n",
      "only showing top 20 rows\n",
      "\n",
      "+-------+-----+\n",
      "|deposit|count|\n",
      "+-------+-----+\n",
      "|     no|39922|\n",
      "|    yes| 5289|\n",
      "+-------+-----+\n",
      "\n"
     ]
    }
   ],
   "source": [
    "df=spark.read.csv(\"../../data/bank.csv\",sep=';',inferSchema=True,header=True)\n",
    "df.drop('education','poutcome').show()\n",
    "df.groupby('deposit').count().show()"
   ]
  },
  {
   "cell_type": "code",
   "execution_count": null,
   "id": "d2a77a91",
   "metadata": {},
   "outputs": [],
   "source": []
  }
 ],
 "metadata": {
  "kernelspec": {
   "display_name": "Python 3 (ipykernel)",
   "language": "python",
   "name": "python3"
  },
  "language_info": {
   "codemirror_mode": {
    "name": "ipython",
    "version": 3
   },
   "file_extension": ".py",
   "mimetype": "text/x-python",
   "name": "python",
   "nbconvert_exporter": "python",
   "pygments_lexer": "ipython3",
   "version": "3.9.12"
  }
 },
 "nbformat": 4,
 "nbformat_minor": 5
}
